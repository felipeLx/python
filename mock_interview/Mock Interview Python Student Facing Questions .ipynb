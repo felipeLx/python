{
 "cells": [
  {
   "cell_type": "markdown",
   "metadata": {},
   "source": [
    "<h3> Mock Interview Python Screening test </h3>\n"
   ]
  },
  {
   "cell_type": "code",
   "execution_count": 75,
   "metadata": {},
   "outputs": [],
   "source": [
    "import pandas as pd\n",
    "import matplotlib as mpl\n",
    "import matplotlib.pyplot as plt\n",
    "\n",
    "df = pd.read_csv(\"adult_census_data.csv\")"
   ]
  },
  {
   "cell_type": "code",
   "execution_count": 79,
   "metadata": {},
   "outputs": [
    {
     "data": {
      "text/html": [
       "<div>\n",
       "<style scoped>\n",
       "    .dataframe tbody tr th:only-of-type {\n",
       "        vertical-align: middle;\n",
       "    }\n",
       "\n",
       "    .dataframe tbody tr th {\n",
       "        vertical-align: top;\n",
       "    }\n",
       "\n",
       "    .dataframe thead th {\n",
       "        text-align: right;\n",
       "    }\n",
       "</style>\n",
       "<table border=\"1\" class=\"dataframe\">\n",
       "  <thead>\n",
       "    <tr style=\"text-align: right;\">\n",
       "      <th></th>\n",
       "      <th>State-gov</th>\n",
       "      <th>Bachelors</th>\n",
       "      <th>Never-married</th>\n",
       "      <th>Adm-clerical</th>\n",
       "      <th>Not-in-family</th>\n",
       "      <th>White</th>\n",
       "      <th>Male</th>\n",
       "      <th>United-States</th>\n",
       "      <th>&lt;=50K</th>\n",
       "    </tr>\n",
       "  </thead>\n",
       "  <tbody>\n",
       "    <tr>\n",
       "      <th>0</th>\n",
       "      <td>Self-emp-not-inc</td>\n",
       "      <td>Bachelors</td>\n",
       "      <td>Married-civ-spouse</td>\n",
       "      <td>Exec-managerial</td>\n",
       "      <td>Husband</td>\n",
       "      <td>White</td>\n",
       "      <td>Male</td>\n",
       "      <td>United-States</td>\n",
       "      <td>&lt;=50K</td>\n",
       "    </tr>\n",
       "    <tr>\n",
       "      <th>1</th>\n",
       "      <td>Private</td>\n",
       "      <td>HS-grad</td>\n",
       "      <td>Divorced</td>\n",
       "      <td>Handlers-cleaners</td>\n",
       "      <td>Not-in-family</td>\n",
       "      <td>White</td>\n",
       "      <td>Male</td>\n",
       "      <td>United-States</td>\n",
       "      <td>&lt;=50K</td>\n",
       "    </tr>\n",
       "    <tr>\n",
       "      <th>2</th>\n",
       "      <td>Private</td>\n",
       "      <td>11th</td>\n",
       "      <td>Married-civ-spouse</td>\n",
       "      <td>Handlers-cleaners</td>\n",
       "      <td>Husband</td>\n",
       "      <td>Black</td>\n",
       "      <td>Male</td>\n",
       "      <td>United-States</td>\n",
       "      <td>&lt;=50K</td>\n",
       "    </tr>\n",
       "    <tr>\n",
       "      <th>3</th>\n",
       "      <td>Private</td>\n",
       "      <td>Bachelors</td>\n",
       "      <td>Married-civ-spouse</td>\n",
       "      <td>Prof-specialty</td>\n",
       "      <td>Wife</td>\n",
       "      <td>Black</td>\n",
       "      <td>Female</td>\n",
       "      <td>Cuba</td>\n",
       "      <td>&lt;=50K</td>\n",
       "    </tr>\n",
       "  </tbody>\n",
       "</table>\n",
       "</div>"
      ],
      "text/plain": [
       "           State-gov   Bachelors        Never-married        Adm-clerical  \\\n",
       "0   Self-emp-not-inc   Bachelors   Married-civ-spouse     Exec-managerial   \n",
       "1            Private     HS-grad             Divorced   Handlers-cleaners   \n",
       "2            Private        11th   Married-civ-spouse   Handlers-cleaners   \n",
       "3            Private   Bachelors   Married-civ-spouse      Prof-specialty   \n",
       "\n",
       "    Not-in-family   White     Male   United-States   <=50K  \n",
       "0         Husband   White     Male   United-States   <=50K  \n",
       "1   Not-in-family   White     Male   United-States   <=50K  \n",
       "2         Husband   Black     Male   United-States   <=50K  \n",
       "3            Wife   Black   Female            Cuba   <=50K  "
      ]
     },
     "execution_count": 79,
     "metadata": {},
     "output_type": "execute_result"
    }
   ],
   "source": [
    "\n",
    "df = df.select_dtypes(include=[object])\n",
    "# df.info()\n",
    "df.head(4)\n",
    "# df.index"
   ]
  },
  {
   "cell_type": "markdown",
   "metadata": {},
   "source": [
    "<b> Q1. After importing the adult_census_data.csv file, please filter this to include only the following criteria: </b>\n",
    "<p>\n",
    "\n",
    "<li> State-Gov</li>\n",
    "<li> Bachelors </li>\n",
    "<li> Never-Married </li>\n",
    "<li> Adm-Clerical </li> \n",
    "<li> Not-in-familiy </li>\n",
    "<li> White </li>\n",
    "<li> Male </li> \n",
    "<li> United States </li>\n",
    "<li> <=50K </li> \n",
    "\n",
    "<b> Feel free to any method to complete this tasks. However, we recommend you use either list filtering [], or .loc to complete this task.</b>"
   ]
  },
  {
   "cell_type": "markdown",
   "metadata": {},
   "source": [
    "<b> Put your code below </b>"
   ]
  },
  {
   "cell_type": "code",
   "execution_count": 80,
   "metadata": {},
   "outputs": [
    {
     "data": {
      "text/html": [
       "<div>\n",
       "<style scoped>\n",
       "    .dataframe tbody tr th:only-of-type {\n",
       "        vertical-align: middle;\n",
       "    }\n",
       "\n",
       "    .dataframe tbody tr th {\n",
       "        vertical-align: top;\n",
       "    }\n",
       "\n",
       "    .dataframe thead th {\n",
       "        text-align: right;\n",
       "    }\n",
       "</style>\n",
       "<table border=\"1\" class=\"dataframe\">\n",
       "  <thead>\n",
       "    <tr style=\"text-align: right;\">\n",
       "      <th></th>\n",
       "      <th>State-gov</th>\n",
       "      <th>Bachelors</th>\n",
       "      <th>Never-married</th>\n",
       "      <th>Adm-clerical</th>\n",
       "      <th>Not-in-family</th>\n",
       "      <th>White</th>\n",
       "      <th>Male</th>\n",
       "      <th>United-States</th>\n",
       "      <th>&lt;=50K</th>\n",
       "    </tr>\n",
       "  </thead>\n",
       "  <tbody>\n",
       "    <tr>\n",
       "      <th>0</th>\n",
       "      <td>Self-emp-not-inc</td>\n",
       "      <td>Bachelors</td>\n",
       "      <td>Married-civ-spouse</td>\n",
       "      <td>Exec-managerial</td>\n",
       "      <td>Husband</td>\n",
       "      <td>White</td>\n",
       "      <td>Male</td>\n",
       "      <td>United-States</td>\n",
       "      <td>&lt;=50K</td>\n",
       "    </tr>\n",
       "    <tr>\n",
       "      <th>1</th>\n",
       "      <td>Private</td>\n",
       "      <td>HS-grad</td>\n",
       "      <td>Divorced</td>\n",
       "      <td>Handlers-cleaners</td>\n",
       "      <td>Not-in-family</td>\n",
       "      <td>White</td>\n",
       "      <td>Male</td>\n",
       "      <td>United-States</td>\n",
       "      <td>&lt;=50K</td>\n",
       "    </tr>\n",
       "    <tr>\n",
       "      <th>2</th>\n",
       "      <td>Private</td>\n",
       "      <td>11th</td>\n",
       "      <td>Married-civ-spouse</td>\n",
       "      <td>Handlers-cleaners</td>\n",
       "      <td>Husband</td>\n",
       "      <td>Black</td>\n",
       "      <td>Male</td>\n",
       "      <td>United-States</td>\n",
       "      <td>&lt;=50K</td>\n",
       "    </tr>\n",
       "    <tr>\n",
       "      <th>3</th>\n",
       "      <td>Private</td>\n",
       "      <td>Bachelors</td>\n",
       "      <td>Married-civ-spouse</td>\n",
       "      <td>Prof-specialty</td>\n",
       "      <td>Wife</td>\n",
       "      <td>Black</td>\n",
       "      <td>Female</td>\n",
       "      <td>Cuba</td>\n",
       "      <td>&lt;=50K</td>\n",
       "    </tr>\n",
       "  </tbody>\n",
       "</table>\n",
       "</div>"
      ],
      "text/plain": [
       "           State-gov   Bachelors        Never-married        Adm-clerical  \\\n",
       "0   Self-emp-not-inc   Bachelors   Married-civ-spouse     Exec-managerial   \n",
       "1            Private     HS-grad             Divorced   Handlers-cleaners   \n",
       "2            Private        11th   Married-civ-spouse   Handlers-cleaners   \n",
       "3            Private   Bachelors   Married-civ-spouse      Prof-specialty   \n",
       "\n",
       "    Not-in-family   White     Male   United-States   <=50K  \n",
       "0         Husband   White     Male   United-States   <=50K  \n",
       "1   Not-in-family   White     Male   United-States   <=50K  \n",
       "2         Husband   Black     Male   United-States   <=50K  \n",
       "3            Wife   Black   Female            Cuba   <=50K  "
      ]
     },
     "execution_count": 80,
     "metadata": {},
     "output_type": "execute_result"
    }
   ],
   "source": [
    "df = df.select_dtypes(include=[object])\n",
    "df.head(4)"
   ]
  },
  {
   "cell_type": "markdown",
   "metadata": {},
   "source": [
    "<b> Currently, the dataframe you are using has the following column names: </b>\n",
    "\n",
    "[' State-gov', ' Bachelors', ' Never-married',\n",
    "       ' Adm-clerical', ' Not-in-family', ' White', ' Male', ' United-States', ' <=50K']\n",
    "       \n",
    "     \n",
    "<b> Q2. Please re-name all the newly filtered columns in the pandas DataFrame to the following: </b>\n",
    "\n",
    "Employment Type, Degree Status, Marriage-Status, Job-Role, Family-Role, Ethnicity, Gender, Country, Earnings\n",
    "\n",
    "E.g. State-Gov becomes Employment Type, Bachelors becomes Degree Status, etc."
   ]
  },
  {
   "cell_type": "markdown",
   "metadata": {},
   "source": [
    "<b> Put your code below </b>"
   ]
  },
  {
   "cell_type": "code",
   "execution_count": 89,
   "metadata": {},
   "outputs": [
    {
     "data": {
      "text/plain": [
       "Index(['Employment Type', 'Degree Status', 'Marriage-Status', 'Job-Role',\n",
       "       'Family-Role', 'Ethnicity', 'Gender', 'Country', 'Earnings'],\n",
       "      dtype='object')"
      ]
     },
     "execution_count": 89,
     "metadata": {},
     "output_type": "execute_result"
    }
   ],
   "source": [
    "mapping = {df.columns[0]: \"Employment Type\", df.columns[1]: \"Degree Status\", df.columns[2]: \"Marriage-Status\", df.columns[3]: \"Job-Role\", df.columns[4]: \"Family-Role\", df.columns[5]: \"Ethnicity\", df.columns[6]: \"Gender\", df.columns[7]: \"Country\", df.columns[8]: \"Earnings\"}\n",
    "df = df.rename(columns=mapping)\n",
    "\n",
    "df.columns\n"
   ]
  },
  {
   "cell_type": "markdown",
   "metadata": {},
   "source": [
    "<b> Q3. The Job Role Columns holds the job information for each individual in this census snapshot. Using this column, create a Bar Chart that shows the count of 'Unique' Jobs per Job Group in the \"Job-Role\" Column in ascending order, as per the provided image below </b>\n"
   ]
  },
  {
   "cell_type": "markdown",
   "metadata": {},
   "source": [
    "<b> Put your code below </b>"
   ]
  },
  {
   "cell_type": "code",
   "execution_count": 99,
   "metadata": {},
   "outputs": [
    {
     "data": {
      "text/plain": [
       "<AxesSubplot:title={'center':'Job-Role census snapshot'}, xlabel='Job-Role'>"
      ]
     },
     "execution_count": 99,
     "metadata": {},
     "output_type": "execute_result"
    },
    {
     "data": {
      "image/png": "[encoded data removed]",
      "text/plain": [
       "<Figure size 432x288 with 1 Axes>"
      ]
     },
     "metadata": {
      "needs_background": "light"
     },
     "output_type": "display_data"
    }
   ],
   "source": [
    "df.groupby(\"Job-Role\")[\"Job-Role\"].count().sort_values(ascending=False).plot(kind=\"bar\", title=\"Job-Role census snapshot\")"
   ]
  },
  {
   "cell_type": "markdown",
   "metadata": {},
   "source": [
    "<b> Q4. Please create two bar plots as per below that show:\n",
    "    \n",
    "    1) The number of individuals who have a High School Graduate Diploma AND earn <=50K in the United States\n",
    "    2) The number of individuals who have a High School Graduate Diploma AND earn >50K in the United States \n",
    "\n",
    "Please note you will be looking specifically at the *Job Role* column"
   ]
  },
  {
   "cell_type": "markdown",
   "metadata": {},
   "source": [
    "<b> Put Your Code Below </b>"
   ]
  },
  {
   "cell_type": "code",
   "execution_count": 184,
   "metadata": {},
   "outputs": [
    {
     "data": {
      "image/png": "[encoded data removed]",
      "text/plain": [
       "<Figure size 432x288 with 1 Axes>"
      ]
     },
     "metadata": {
      "needs_background": "light"
     },
     "output_type": "display_data"
    },
    {
     "data": {
      "image/png": "[encoded data removed]",
      "text/plain": [
       "<Figure size 432x288 with 1 Axes>"
      ]
     },
     "metadata": {
      "needs_background": "light"
     },
     "output_type": "display_data"
    }
   ],
   "source": [
    "df_low = df[(df[\"Degree Status\"] == \" HS-grad\") & (df[\"Earnings\"] == \" <=50K\") & (df[\"Country\"] == \" United-States\")]\n",
    "\n",
    "fig1 = df_low.groupby(\"Job-Role\")[\"Job-Role\"].count().sort_values(ascending=False).plot(kind=\"bar\", title=\"Individuals who earn < 50K, have a High School Graduate Diploma and are in the United States\")\n",
    "plt.show()\n",
    "\n",
    "df_high = df[(df[\"Degree Status\"] == \" HS-grad\") & (df[\"Earnings\"] == \" >50K\") & (df[\"Country\"] == \" United-States\")]\n",
    "\n",
    "fig2 = df_high.groupby(\"Job-Role\")[\"Job-Role\"].count().sort_values(ascending=False).plot(kind=\"bar\", title=\"Individuals who earn > 50K, have a High School Graduate Diploma and are in the United States\")\n",
    "plt.show()"
   ]
  },
  {
   "cell_type": "code",
   "execution_count": null,
   "metadata": {},
   "outputs": [],
   "source": []
  },
  {
   "cell_type": "markdown",
   "metadata": {},
   "source": [
    "\n"
   ]
  },
  {
   "cell_type": "markdown",
   "metadata": {},
   "source": [
    "<H2> Challenge Question </H2>\n",
    "\n",
    "<b> Q5. Which Job Role has the highest <i> proportion </i> of individuals who earn >50K? </b>"
   ]
  },
  {
   "cell_type": "markdown",
   "metadata": {},
   "source": [
    "<b> Put your code below </b>"
   ]
  },
  {
   "cell_type": "code",
   "execution_count": null,
   "metadata": {},
   "outputs": [],
   "source": [
    "# Craft-repair"
   ]
  }
 ],
 "metadata": {
  "kernelspec": {
   "display_name": "Python 3",
   "language": "python",
   "name": "python3"
  },
  "language_info": {
   "codemirror_mode": {
    "name": "ipython",
    "version": 3
   },
   "file_extension": ".py",
   "mimetype": "text/x-python",
   "name": "python",
   "nbconvert_exporter": "python",
   "pygments_lexer": "ipython3",
   "version": "3.8.10"
  }
 },
 "nbformat": 4,
 "nbformat_minor": 4
}
